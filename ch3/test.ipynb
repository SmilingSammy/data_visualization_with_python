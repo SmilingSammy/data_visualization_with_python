{
 "cells": [
  {
   "cell_type": "code",
   "execution_count": 1,
   "metadata": {
    "execution": {
     "iopub.execute_input": "2021-12-13T04:57:03.182535Z",
     "iopub.status.busy": "2021-12-13T04:57:03.182149Z",
     "iopub.status.idle": "2021-12-13T04:57:03.665757Z",
     "shell.execute_reply": "2021-12-13T04:57:03.664801Z",
     "shell.execute_reply.started": "2021-12-13T04:57:03.182479Z"
    }
   },
   "outputs": [],
   "source": [
    "import numpy as np\n",
    "import pandas as pd\n",
    "import matplotlib.pyplot as plt\n",
    "import matplotlib.font_manager as fm\n",
    "import matplotlib\n",
    "\n",
    "path = '/Users/hsy/Library/Fonts/NanumGothic.ttf'\n",
    "font_name = fm.FontProperties(fname=path, size=10).get_name()\n",
    "plt.rc('font', family=font_name)\n",
    "matplotlib.rcParams['axes.unicode_minus'] = False # 마이너스 부호 깨짐 방지"
   ]
  },
  {
   "cell_type": "markdown",
   "metadata": {},
   "source": [
    "# 1"
   ]
  },
  {
   "cell_type": "code",
   "execution_count": 7,
   "metadata": {
    "execution": {
     "iopub.execute_input": "2021-12-13T04:58:24.619475Z",
     "iopub.status.busy": "2021-12-13T04:58:24.619219Z",
     "iopub.status.idle": "2021-12-13T04:58:24.637912Z",
     "shell.execute_reply": "2021-12-13T04:58:24.636939Z",
     "shell.execute_reply.started": "2021-12-13T04:58:24.619453Z"
    }
   },
   "outputs": [
    {
     "data": {
      "text/html": [
       "<div>\n",
       "<style scoped>\n",
       "    .dataframe tbody tr th:only-of-type {\n",
       "        vertical-align: middle;\n",
       "    }\n",
       "\n",
       "    .dataframe tbody tr th {\n",
       "        vertical-align: top;\n",
       "    }\n",
       "\n",
       "    .dataframe thead th {\n",
       "        text-align: right;\n",
       "    }\n",
       "</style>\n",
       "<table border=\"1\" class=\"dataframe\">\n",
       "  <thead>\n",
       "    <tr style=\"text-align: right;\">\n",
       "      <th></th>\n",
       "      <th>연도</th>\n",
       "      <th>20대</th>\n",
       "      <th>30대</th>\n",
       "      <th>40대</th>\n",
       "      <th>50대</th>\n",
       "      <th>60세이상</th>\n",
       "    </tr>\n",
       "  </thead>\n",
       "  <tbody>\n",
       "    <tr>\n",
       "      <th>0</th>\n",
       "      <td>2001년</td>\n",
       "      <td>7.4</td>\n",
       "      <td>3.2</td>\n",
       "      <td>3.0</td>\n",
       "      <td>2.8</td>\n",
       "      <td>1.2</td>\n",
       "    </tr>\n",
       "    <tr>\n",
       "      <th>1</th>\n",
       "      <td>2002년</td>\n",
       "      <td>6.6</td>\n",
       "      <td>2.9</td>\n",
       "      <td>2.0</td>\n",
       "      <td>2.0</td>\n",
       "      <td>1.1</td>\n",
       "    </tr>\n",
       "    <tr>\n",
       "      <th>2</th>\n",
       "      <td>2003년</td>\n",
       "      <td>7.7</td>\n",
       "      <td>2.8</td>\n",
       "      <td>2.2</td>\n",
       "      <td>2.2</td>\n",
       "      <td>1.0</td>\n",
       "    </tr>\n",
       "    <tr>\n",
       "      <th>3</th>\n",
       "      <td>2004년</td>\n",
       "      <td>7.9</td>\n",
       "      <td>3.2</td>\n",
       "      <td>2.3</td>\n",
       "      <td>2.8</td>\n",
       "      <td>1.2</td>\n",
       "    </tr>\n",
       "    <tr>\n",
       "      <th>4</th>\n",
       "      <td>2005년</td>\n",
       "      <td>7.7</td>\n",
       "      <td>3.4</td>\n",
       "      <td>2.4</td>\n",
       "      <td>2.4</td>\n",
       "      <td>1.3</td>\n",
       "    </tr>\n",
       "    <tr>\n",
       "      <th>5</th>\n",
       "      <td>2006년</td>\n",
       "      <td>7.7</td>\n",
       "      <td>3.0</td>\n",
       "      <td>2.8</td>\n",
       "      <td>2.4</td>\n",
       "      <td>1.6</td>\n",
       "    </tr>\n",
       "    <tr>\n",
       "      <th>6</th>\n",
       "      <td>2007년</td>\n",
       "      <td>7.1</td>\n",
       "      <td>3.2</td>\n",
       "      <td>2.1</td>\n",
       "      <td>2.2</td>\n",
       "      <td>1.3</td>\n",
       "    </tr>\n",
       "    <tr>\n",
       "      <th>7</th>\n",
       "      <td>2008년</td>\n",
       "      <td>7.0</td>\n",
       "      <td>3.1</td>\n",
       "      <td>2.2</td>\n",
       "      <td>2.1</td>\n",
       "      <td>1.2</td>\n",
       "    </tr>\n",
       "    <tr>\n",
       "      <th>8</th>\n",
       "      <td>2009년</td>\n",
       "      <td>7.9</td>\n",
       "      <td>3.6</td>\n",
       "      <td>2.5</td>\n",
       "      <td>2.5</td>\n",
       "      <td>1.6</td>\n",
       "    </tr>\n",
       "    <tr>\n",
       "      <th>9</th>\n",
       "      <td>2010년</td>\n",
       "      <td>7.8</td>\n",
       "      <td>3.5</td>\n",
       "      <td>2.5</td>\n",
       "      <td>2.4</td>\n",
       "      <td>3.0</td>\n",
       "    </tr>\n",
       "  </tbody>\n",
       "</table>\n",
       "</div>"
      ],
      "text/plain": [
       "      연도  20대  30대  40대  50대  60세이상\n",
       "0  2001년  7.4  3.2  3.0  2.8    1.2\n",
       "1  2002년  6.6  2.9  2.0  2.0    1.1\n",
       "2  2003년  7.7  2.8  2.2  2.2    1.0\n",
       "3  2004년  7.9  3.2  2.3  2.8    1.2\n",
       "4  2005년  7.7  3.4  2.4  2.4    1.3\n",
       "5  2006년  7.7  3.0  2.8  2.4    1.6\n",
       "6  2007년  7.1  3.2  2.1  2.2    1.3\n",
       "7  2008년  7.0  3.1  2.2  2.1    1.2\n",
       "8  2009년  7.9  3.6  2.5  2.5    1.6\n",
       "9  2010년  7.8  3.5  2.5  2.4    3.0"
      ]
     },
     "execution_count": 7,
     "metadata": {},
     "output_type": "execute_result"
    }
   ],
   "source": [
    "data = pd.read_csv('../data/연령별_실업율.csv', encoding='cp949')\n",
    "data"
   ]
  },
  {
   "cell_type": "code",
   "execution_count": 17,
   "metadata": {
    "execution": {
     "iopub.execute_input": "2021-12-13T05:01:05.754287Z",
     "iopub.status.busy": "2021-12-13T05:01:05.753938Z",
     "iopub.status.idle": "2021-12-13T05:01:05.986847Z",
     "shell.execute_reply": "2021-12-13T05:01:05.986182Z",
     "shell.execute_reply.started": "2021-12-13T05:01:05.754262Z"
    }
   },
   "outputs": [
    {
     "data": {
      "text/plain": [
       "Text(0.5, 1.0, '연령대별 연도명 꺽은 선')"
      ]
     },
     "execution_count": 17,
     "metadata": {},
     "output_type": "execute_result"
    },
    {
     "data": {
      "image/png": "[encoded data removed]",
      "text/plain": [
       "<Figure size 864x576 with 1 Axes>"
      ]
     },
     "metadata": {
      "needs_background": "light"
     },
     "output_type": "display_data"
    }
   ],
   "source": [
    "data.set_index('연도').T.iloc[:, :5].plot(figsize=(12, 8))\n",
    "plt.ylabel('연도명')\n",
    "plt.xlabel('연령대')\n",
    "plt.title('연령대별 연도명 꺽은 선')"
   ]
  },
  {
   "cell_type": "markdown",
   "metadata": {},
   "source": [
    "# 2"
   ]
  },
  {
   "cell_type": "code",
   "execution_count": 19,
   "metadata": {
    "execution": {
     "iopub.execute_input": "2021-12-13T05:02:42.539452Z",
     "iopub.status.busy": "2021-12-13T05:02:42.539162Z",
     "iopub.status.idle": "2021-12-13T05:02:42.554012Z",
     "shell.execute_reply": "2021-12-13T05:02:42.553068Z",
     "shell.execute_reply.started": "2021-12-13T05:02:42.539416Z"
    }
   },
   "outputs": [
    {
     "data": {
      "text/html": [
       "<div>\n",
       "<style scoped>\n",
       "    .dataframe tbody tr th:only-of-type {\n",
       "        vertical-align: middle;\n",
       "    }\n",
       "\n",
       "    .dataframe tbody tr th {\n",
       "        vertical-align: top;\n",
       "    }\n",
       "\n",
       "    .dataframe thead th {\n",
       "        text-align: right;\n",
       "    }\n",
       "</style>\n",
       "<table border=\"1\" class=\"dataframe\">\n",
       "  <thead>\n",
       "    <tr style=\"text-align: right;\">\n",
       "      <th></th>\n",
       "      <th>Unnamed: 0</th>\n",
       "      <th>순위</th>\n",
       "      <th>선수명</th>\n",
       "      <th>팀명</th>\n",
       "      <th>AVG</th>\n",
       "      <th>HR</th>\n",
       "      <th>R</th>\n",
       "      <th>RBI</th>\n",
       "    </tr>\n",
       "  </thead>\n",
       "  <tbody>\n",
       "    <tr>\n",
       "      <th>0</th>\n",
       "      <td>1</td>\n",
       "      <td>1</td>\n",
       "      <td>최형우</td>\n",
       "      <td>삼성</td>\n",
       "      <td>0.376</td>\n",
       "      <td>31</td>\n",
       "      <td>99</td>\n",
       "      <td>144</td>\n",
       "    </tr>\n",
       "    <tr>\n",
       "      <th>1</th>\n",
       "      <td>2</td>\n",
       "      <td>2</td>\n",
       "      <td>김태균</td>\n",
       "      <td>한화</td>\n",
       "      <td>0.365</td>\n",
       "      <td>23</td>\n",
       "      <td>94</td>\n",
       "      <td>136</td>\n",
       "    </tr>\n",
       "    <tr>\n",
       "      <th>2</th>\n",
       "      <td>3</td>\n",
       "      <td>3</td>\n",
       "      <td>이용규</td>\n",
       "      <td>한화</td>\n",
       "      <td>0.352</td>\n",
       "      <td>3</td>\n",
       "      <td>98</td>\n",
       "      <td>41</td>\n",
       "    </tr>\n",
       "    <tr>\n",
       "      <th>3</th>\n",
       "      <td>4</td>\n",
       "      <td>4</td>\n",
       "      <td>김주찬</td>\n",
       "      <td>기아</td>\n",
       "      <td>0.346</td>\n",
       "      <td>23</td>\n",
       "      <td>97</td>\n",
       "      <td>101</td>\n",
       "    </tr>\n",
       "    <tr>\n",
       "      <th>4</th>\n",
       "      <td>5</td>\n",
       "      <td>5</td>\n",
       "      <td>박용택</td>\n",
       "      <td>엘지</td>\n",
       "      <td>0.346</td>\n",
       "      <td>11</td>\n",
       "      <td>84</td>\n",
       "      <td>90</td>\n",
       "    </tr>\n",
       "  </tbody>\n",
       "</table>\n",
       "</div>"
      ],
      "text/plain": [
       "   Unnamed: 0  순위  선수명  팀명    AVG  HR   R  RBI\n",
       "0           1   1  최형우  삼성  0.376  31  99  144\n",
       "1           2   2  김태균  한화  0.365  23  94  136\n",
       "2           3   3  이용규  한화  0.352   3  98   41\n",
       "3           4   4  김주찬  기아  0.346  23  97  101\n",
       "4           5   5  박용택  엘지  0.346  11  84   90"
      ]
     },
     "execution_count": 19,
     "metadata": {},
     "output_type": "execute_result"
    }
   ],
   "source": [
    "data = pd.read_csv('../data/kbo.csv', encoding='cp949')\n",
    "data.head()"
   ]
  },
  {
   "cell_type": "code",
   "execution_count": 25,
   "metadata": {
    "execution": {
     "iopub.execute_input": "2021-12-13T05:04:31.010212Z",
     "iopub.status.busy": "2021-12-13T05:04:31.009801Z",
     "iopub.status.idle": "2021-12-13T05:04:31.176261Z",
     "shell.execute_reply": "2021-12-13T05:04:31.174711Z",
     "shell.execute_reply.started": "2021-12-13T05:04:31.010183Z"
    }
   },
   "outputs": [
    {
     "data": {
      "image/png": "[encoded data removed]",
      "text/plain": [
       "<Figure size 432x288 with 1 Axes>"
      ]
     },
     "metadata": {
      "needs_background": "light"
     },
     "output_type": "display_data"
    }
   ],
   "source": [
    "plt.scatter(x=data.AVG, y=data.HR, c='r')\n",
    "plt.ylabel('홈런')\n",
    "plt.xlabel('타율')\n",
    "plt.title('산점도 그래프')\n",
    "plt.grid()"
   ]
  },
  {
   "cell_type": "markdown",
   "metadata": {},
   "source": [
    "# 3"
   ]
  },
  {
   "cell_type": "code",
   "execution_count": 31,
   "metadata": {
    "execution": {
     "iopub.execute_input": "2021-12-13T05:06:07.498095Z",
     "iopub.status.busy": "2021-12-13T05:06:07.497821Z",
     "iopub.status.idle": "2021-12-13T05:06:07.525166Z",
     "shell.execute_reply": "2021-12-13T05:06:07.524297Z",
     "shell.execute_reply.started": "2021-12-13T05:06:07.498072Z"
    }
   },
   "outputs": [
    {
     "data": {
      "text/html": [
       "<div>\n",
       "<style scoped>\n",
       "    .dataframe tbody tr th:only-of-type {\n",
       "        vertical-align: middle;\n",
       "    }\n",
       "\n",
       "    .dataframe tbody tr th {\n",
       "        vertical-align: top;\n",
       "    }\n",
       "\n",
       "    .dataframe thead th {\n",
       "        text-align: right;\n",
       "    }\n",
       "</style>\n",
       "<table border=\"1\" class=\"dataframe\">\n",
       "  <thead>\n",
       "    <tr style=\"text-align: right;\">\n",
       "      <th></th>\n",
       "      <th>names</th>\n",
       "      <th>gender</th>\n",
       "      <th>korean</th>\n",
       "      <th>english</th>\n",
       "      <th>math</th>\n",
       "      <th>computer</th>\n",
       "      <th>science</th>\n",
       "    </tr>\n",
       "  </thead>\n",
       "  <tbody>\n",
       "    <tr>\n",
       "      <th>0</th>\n",
       "      <td>강감찬</td>\n",
       "      <td>M</td>\n",
       "      <td>85</td>\n",
       "      <td>77</td>\n",
       "      <td>80</td>\n",
       "      <td>100</td>\n",
       "      <td>96</td>\n",
       "    </tr>\n",
       "    <tr>\n",
       "      <th>1</th>\n",
       "      <td>이순신</td>\n",
       "      <td>M</td>\n",
       "      <td>86</td>\n",
       "      <td>90</td>\n",
       "      <td>82</td>\n",
       "      <td>93</td>\n",
       "      <td>93</td>\n",
       "    </tr>\n",
       "    <tr>\n",
       "      <th>2</th>\n",
       "      <td>신사임당</td>\n",
       "      <td>F</td>\n",
       "      <td>80</td>\n",
       "      <td>98</td>\n",
       "      <td>87</td>\n",
       "      <td>92</td>\n",
       "      <td>90</td>\n",
       "    </tr>\n",
       "    <tr>\n",
       "      <th>3</th>\n",
       "      <td>서현진</td>\n",
       "      <td>F</td>\n",
       "      <td>97</td>\n",
       "      <td>87</td>\n",
       "      <td>80</td>\n",
       "      <td>85</td>\n",
       "      <td>80</td>\n",
       "    </tr>\n",
       "    <tr>\n",
       "      <th>4</th>\n",
       "      <td>전지현</td>\n",
       "      <td>F</td>\n",
       "      <td>100</td>\n",
       "      <td>100</td>\n",
       "      <td>98</td>\n",
       "      <td>100</td>\n",
       "      <td>94</td>\n",
       "    </tr>\n",
       "  </tbody>\n",
       "</table>\n",
       "</div>"
      ],
      "text/plain": [
       "  names gender  korean  english  math  computer  science\n",
       "0   강감찬      M      85       77    80       100       96\n",
       "1   이순신      M      86       90    82        93       93\n",
       "2  신사임당      F      80       98    87        92       90\n",
       "3   서현진      F      97       87    80        85       80\n",
       "4   전지현      F     100      100    98       100       94"
      ]
     },
     "execution_count": 31,
     "metadata": {},
     "output_type": "execute_result"
    }
   ],
   "source": [
    "data = pd.read_csv('../data/final_exam.csv', encoding='cp949')\n",
    "data.head()"
   ]
  },
  {
   "cell_type": "code",
   "execution_count": 64,
   "metadata": {
    "execution": {
     "iopub.execute_input": "2021-12-13T05:12:36.166003Z",
     "iopub.status.busy": "2021-12-13T05:12:36.165740Z",
     "iopub.status.idle": "2021-12-13T05:12:36.171552Z",
     "shell.execute_reply": "2021-12-13T05:12:36.170553Z",
     "shell.execute_reply.started": "2021-12-13T05:12:36.165981Z"
    }
   },
   "outputs": [
    {
     "data": {
      "text/plain": [
       "0     85\n",
       "1     86\n",
       "2     80\n",
       "3     97\n",
       "4    100\n",
       "Name: korean, dtype: int64"
      ]
     },
     "execution_count": 64,
     "metadata": {},
     "output_type": "execute_result"
    }
   ],
   "source": [
    "korean_score = data['korean']\n",
    "korean_score"
   ]
  },
  {
   "cell_type": "code",
   "execution_count": 78,
   "metadata": {
    "execution": {
     "iopub.execute_input": "2021-12-13T05:18:31.134510Z",
     "iopub.status.busy": "2021-12-13T05:18:31.134157Z",
     "iopub.status.idle": "2021-12-13T05:18:31.318352Z",
     "shell.execute_reply": "2021-12-13T05:18:31.317617Z",
     "shell.execute_reply.started": "2021-12-13T05:18:31.134486Z"
    }
   },
   "outputs": [
    {
     "data": {
      "text/plain": [
       "Text(0.5, 1.0, '국어 점수')"
      ]
     },
     "execution_count": 78,
     "metadata": {},
     "output_type": "execute_result"
    },
    {
     "data": {
      "image/png": "[encoded data removed]",
      "text/plain": [
       "<Figure size 864x576 with 1 Axes>"
      ]
     },
     "metadata": {
      "needs_background": "light"
     },
     "output_type": "display_data"
    }
   ],
   "source": [
    "plt.figure(figsize=(12,8))\n",
    "plt.bar(x=data['names'], height=korean_score, alpha=0.7, color=['b', 'g', 'r', 'c', 'm', 'y', 'k'])\n",
    "\n",
    "for i in range(korean_score.size):\n",
    "    v = '%d점' % korean_score[i]\n",
    "    plt.text(x=i, y=korean_score[i]+1, s=v, horizontalalignment='center')\n",
    "    \n",
    "avg_score = korean_score.mean()\n",
    "plt.axhline(avg_score, linestyle='--', color='r')\n",
    "plt.text(x=0, y=avg_score+1, s='평균: %d점' % avg_score, horizontalalignment='center')\n",
    "\n",
    "plt.ylabel('점수')\n",
    "plt.xlabel('학생 이름')\n",
    "plt.title('국어 점수')"
   ]
  },
  {
   "cell_type": "code",
   "execution_count": null,
   "metadata": {},
   "outputs": [],
   "source": []
  }
 ],
 "metadata": {
  "kernelspec": {
   "display_name": "Python 3",
   "language": "python",
   "name": "python3"
  },
  "language_info": {
   "codemirror_mode": {
    "name": "ipython",
    "version": 3
   },
   "file_extension": ".py",
   "mimetype": "text/x-python",
   "name": "python",
   "nbconvert_exporter": "python",
   "pygments_lexer": "ipython3",
   "version": "3.7.3"
  }
 },
 "nbformat": 4,
 "nbformat_minor": 4
}
